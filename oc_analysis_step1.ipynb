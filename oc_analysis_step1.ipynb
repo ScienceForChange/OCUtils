{
 "cells": [
  {
   "cell_type": "code",
   "execution_count": 1,
   "id": "4c9fbf51",
   "metadata": {},
   "outputs": [
    {
     "data": {
      "text/html": [
       "<style>.container { width:100% !important; }</style>"
      ],
      "text/plain": [
       "<IPython.core.display.HTML object>"
      ]
     },
     "metadata": {},
     "output_type": "display_data"
    }
   ],
   "source": [
    "from IPython.core.display import display, HTML\n",
    "display(HTML(\"<style>.container { width:100% !important; }</style>\"))"
   ]
  },
  {
   "cell_type": "code",
   "execution_count": 2,
   "id": "6302365e",
   "metadata": {},
   "outputs": [
    {
     "name": "stdout",
     "output_type": "stream",
     "text": [
      "INFO: File type autodetection yields: xlsx\n",
      "INFO: Remember that we only load data from 1st sheet of MS Excel Files\n",
      "Running filters: \"fix_typos\"...\n",
      "INFO: Correcting typo in column \"Intensity\" until OCs developers fix it someday ;-)\n",
      "Running filters: \"fix_userids\"...\n",
      "Running filters: \"odour_literals_to_numbers\"...\n",
      "Running filters: \"add_analyst_fields\"...\n",
      "Upgrading data structure for analysis. Adding \"Typeoverride\" field...\n",
      "Upgrading data structure for analysis. Adding \"Subtypeoverride\" field...\n",
      "Upgrading data structure for analysis. Adding \"Intensityoverride\" field...\n",
      "Upgrading data structure for analysis. Adding \"Annoyoverride\" field...\n",
      "Upgrading data structure for analysis. Adding \"Analystcomments\" field...\n",
      "Running filters: \"type_casting\"...\n",
      "Filter execution went OK\n",
      "Exporting data to file \"../Data/analysis_full.xlsx\"...\n"
     ]
    }
   ],
   "source": [
    "from oc_odourmap import OCObservationData, OCAnalysisData, OCMapConfig\n",
    "input_data_path = '../Data/odours_full.xlsx'\n",
    "output_data_path = '../Data/analysis_full.xlsx'\n",
    "ocdata = OCObservationData(input_data_path)\n",
    "# ocdata.data.info()\n",
    "# ocdata = OCAnalysisData(input_data_path)\n",
    "ocdata.to_excel(output_data_path, index=False)"
   ]
  },
  {
   "cell_type": "code",
   "execution_count": 3,
   "id": "e6d7f4d8",
   "metadata": {},
   "outputs": [],
   "source": [
    "##### ocdata.to_excel(output_data_path, index=False)\n",
    "# from keplergl import KeplerGl\n",
    "# from pandas_ui import *\n",
    "# import pandas\n",
    "# import seaborn as sns\n",
    "# import datetime\n",
    "# from shapely.geometry import Point\n",
    "# map_config = OCMapConfig().get('3dintensity')\n",
    "# map_2 = KeplerGl(height=900, data={\"AnalysisData\": ocdata.data}, config=map_config)\n",
    "# map_2"
   ]
  },
  {
   "cell_type": "code",
   "execution_count": null,
   "id": "ce9caf44",
   "metadata": {},
   "outputs": [],
   "source": []
  }
 ],
 "metadata": {
  "kernelspec": {
   "display_name": "Python 3 (ipykernel)",
   "language": "python",
   "name": "python3"
  },
  "language_info": {
   "codemirror_mode": {
    "name": "ipython",
    "version": 3
   },
   "file_extension": ".py",
   "mimetype": "text/x-python",
   "name": "python",
   "nbconvert_exporter": "python",
   "pygments_lexer": "ipython3",
   "version": "3.9.6"
  }
 },
 "nbformat": 4,
 "nbformat_minor": 5
}
